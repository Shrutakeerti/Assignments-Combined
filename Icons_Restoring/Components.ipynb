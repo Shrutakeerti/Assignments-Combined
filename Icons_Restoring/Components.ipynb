{
  "cells": [
    {
      "cell_type": "code",
      "execution_count": null,
      "metadata": {
        "colab": {
          "base_uri": "https://localhost:8080/"
        },
        "id": "avPUwv830z2S",
        "outputId": "4b712605-cfef-4aed-beb6-9f518395e3ed"
      },
      "outputs": [
        {
          "name": "stdout",
          "output_type": "stream",
          "text": [
            "Extracted 740 icons from the schedule.\n"
          ]
        }
      ],
      "source": [
        "import cv2\n",
        "import numpy as np\n",
        "from matplotlib import pyplot as plt\n",
        "\n",
        "# Load the schedule image containing icons\n",
        "schedule_image = cv2.imread('/content/Schedule_page-0001.jpg', 0)  # Replace with the correct file path\n",
        "\n",
        "# Assuming each icon is distinct, you may need to apply thresholding and contour detection\n",
        "_, thresh = cv2.threshold(schedule_image, 128, 255, cv2.THRESH_BINARY_INV)\n",
        "\n",
        "# Find contours of icons\n",
        "contours, _ = cv2.findContours(thresh, cv2.RETR_EXTERNAL, cv2.CHAIN_APPROX_SIMPLE)\n",
        "\n",
        "# Save extracted icons for later matching\n",
        "icons = []\n",
        "for contour in contours:\n",
        "    x, y, w, h = cv2.boundingRect(contour)\n",
        "    icon = schedule_image[y:y+h, x:x+w]\n",
        "    icons.append(icon)\n",
        "\n",
        "print(f'Extracted {len(icons)} icons from the schedule.')\n"
      ]
    },
    {
      "cell_type": "code",
      "execution_count": null,
      "metadata": {
        "colab": {
          "background_save": true
        },
        "id": "yNMIkyRZ1emo",
        "outputId": "2f620a03-b50f-4e83-d4ea-4a2859c1793d"
      },
      "outputs": [
        {
          "name": "stdout",
          "output_type": "stream",
          "text": [
            "Matches found:  {'Icon_1': 7498, 'Icon_2': 127292, 'Icon_3': 127292, 'Icon_4': 28309500, 'Icon_5': 2642, 'Icon_6': 2642, 'Icon_7': 7498, 'Icon_8': 18444, 'Icon_9': 17850, 'Icon_10': 18436, 'Icon_11': 416626, 'Icon_12': 18129, 'Icon_13': 1075612, 'Icon_14': 28336500, 'Icon_15': 36087, 'Icon_16': 28336500, 'Icon_17': 28336500, 'Icon_18': 28336500, 'Icon_19': 28336500, 'Icon_20': 28336500, 'Icon_21': 28336500, 'Icon_22': 42, 'Icon_23': 435970, 'Icon_24': 435970, 'Icon_25': 96256, 'Icon_26': 0, 'Icon_27': 0, 'Icon_28': 26665, 'Icon_29': 0, 'Icon_30': 11, 'Icon_31': 0, 'Icon_32': 0, 'Icon_33': 26665, 'Icon_34': 96342, 'Icon_35': 435970, 'Icon_36': 2, 'Icon_37': 0, 'Icon_38': 0, 'Icon_39': 26660, 'Icon_40': 436880, 'Icon_41': 0, 'Icon_42': 0, 'Icon_43': 26508, 'Icon_44': 0, 'Icon_45': 119, 'Icon_46': 96212, 'Icon_47': 19, 'Icon_48': 16, 'Icon_49': 96249, 'Icon_50': 11, 'Icon_51': 0, 'Icon_52': 0, 'Icon_53': 435970, 'Icon_54': 0, 'Icon_55': 0, 'Icon_56': 19, 'Icon_57': 11, 'Icon_58': 0, 'Icon_59': 96318, 'Icon_60': 0, 'Icon_61': 2, 'Icon_62': 3, 'Icon_63': 1, 'Icon_64': 5, 'Icon_65': 3, 'Icon_66': 5, 'Icon_67': 1052, 'Icon_68': 1, 'Icon_69': 1048, 'Icon_70': 1, 'Icon_71': 23, 'Icon_72': 1, 'Icon_73': 5, 'Icon_74': 1, 'Icon_75': 0, 'Icon_76': 1, 'Icon_77': 5, 'Icon_78': 3, 'Icon_79': 5, 'Icon_80': 5, 'Icon_81': 3, 'Icon_82': 16802, 'Icon_83': 82487, 'Icon_84': 81483, 'Icon_85': 581770, 'Icon_86': 5, 'Icon_87': 6, 'Icon_88': 557, 'Icon_89': 0, 'Icon_90': 1, 'Icon_91': 0, 'Icon_92': 2, 'Icon_93': 82457, 'Icon_94': 80837, 'Icon_95': 581770, 'Icon_96': 1, 'Icon_97': 190, 'Icon_98': 81497, 'Icon_99': 81360, 'Icon_100': 190, 'Icon_101': 190, 'Icon_102': 581770, 'Icon_103': 3943, 'Icon_104': 190, 'Icon_105': 580011, 'Icon_106': 249, 'Icon_107': 0, 'Icon_108': 556, 'Icon_109': 30, 'Icon_110': 81464, 'Icon_111': 3, 'Icon_112': 3197, 'Icon_113': 0, 'Icon_114': 35, 'Icon_115': 0, 'Icon_116': 5, 'Icon_117': 24, 'Icon_118': 29, 'Icon_119': 1, 'Icon_120': 24, 'Icon_121': 3185, 'Icon_122': 0, 'Icon_123': 16801, 'Icon_124': 3, 'Icon_125': 1, 'Icon_126': 3, 'Icon_127': 1, 'Icon_128': 5, 'Icon_129': 3, 'Icon_130': 5, 'Icon_131': 164, 'Icon_132': 1, 'Icon_133': 0, 'Icon_134': 81464, 'Icon_135': 81425, 'Icon_136': 584849, 'Icon_137': 5, 'Icon_138': 6, 'Icon_139': 557, 'Icon_140': 2, 'Icon_141': 8, 'Icon_142': 1333, 'Icon_143': 8, 'Icon_144': 0, 'Icon_145': 3, 'Icon_146': 28343700, 'Icon_147': 1, 'Icon_148': 137, 'Icon_149': 45, 'Icon_150': 68, 'Icon_151': 2, 'Icon_152': 90774, 'Icon_153': 1223, 'Icon_154': 893, 'Icon_155': 1878, 'Icon_156': 0, 'Icon_157': 101712, 'Icon_158': 2989, 'Icon_159': 3103, 'Icon_160': 0, 'Icon_161': 0, 'Icon_162': 90776, 'Icon_163': 686, 'Icon_164': 1711, 'Icon_165': 0, 'Icon_166': 0, 'Icon_167': 0, 'Icon_168': 1, 'Icon_169': 0, 'Icon_170': 984, 'Icon_171': 1, 'Icon_172': 569, 'Icon_173': 332, 'Icon_174': 136, 'Icon_175': 88, 'Icon_176': 82, 'Icon_177': 0, 'Icon_178': 0, 'Icon_179': 0, 'Icon_180': 649, 'Icon_181': 8, 'Icon_182': 676, 'Icon_183': 28287000, 'Icon_184': 752, 'Icon_185': 217, 'Icon_186': 1, 'Icon_187': 72, 'Icon_188': 12, 'Icon_189': 182, 'Icon_190': 0, 'Icon_191': 0, 'Icon_192': 4, 'Icon_193': 0, 'Icon_194': 0, 'Icon_195': 1, 'Icon_196': 1162, 'Icon_197': 165, 'Icon_198': 8, 'Icon_199': 0, 'Icon_200': 77, 'Icon_201': 0, 'Icon_202': 166, 'Icon_203': 200, 'Icon_204': 9, 'Icon_205': 0, 'Icon_206': 217, 'Icon_207': 90762, 'Icon_208': 191, 'Icon_209': 2, 'Icon_210': 579, 'Icon_211': 166, 'Icon_212': 101959, 'Icon_213': 3, 'Icon_214': 3, 'Icon_215': 1, 'Icon_216': 0, 'Icon_217': 1, 'Icon_218': 0, 'Icon_219': 1, 'Icon_220': 1, 'Icon_221': 0, 'Icon_222': 0, 'Icon_223': 0, 'Icon_224': 1, 'Icon_225': 1, 'Icon_226': 1, 'Icon_227': 1072270, 'Icon_228': 28350000, 'Icon_229': 1072270, 'Icon_230': 28350000, 'Icon_231': 9318, 'Icon_232': 1321, 'Icon_233': 1072270, 'Icon_234': 739, 'Icon_235': 1072270, 'Icon_236': 1072270, 'Icon_237': 1072270, 'Icon_238': 28350000, 'Icon_239': 1063838, 'Icon_240': 0, 'Icon_241': 0, 'Icon_242': 153, 'Icon_243': 0, 'Icon_244': 0, 'Icon_245': 0, 'Icon_246': 113, 'Icon_247': 28, 'Icon_248': 35, 'Icon_249': 16957, 'Icon_250': 1741, 'Icon_251': 0, 'Icon_252': 0, 'Icon_253': 456359, 'Icon_254': 231899, 'Icon_255': 268930, 'Icon_256': 878, 'Icon_257': 0, 'Icon_258': 28324800, 'Icon_259': 0, 'Icon_260': 456359, 'Icon_261': 0, 'Icon_262': 0, 'Icon_263': 0, 'Icon_264': 0, 'Icon_265': 540, 'Icon_266': 28345500, 'Icon_267': 28350000, 'Icon_268': 28345500, 'Icon_269': 1072270, 'Icon_270': 70, 'Icon_271': 732212, 'Icon_272': 0, 'Icon_273': 111, 'Icon_274': 48, 'Icon_275': 28350000, 'Icon_276': 64, 'Icon_277': 1, 'Icon_278': 4630, 'Icon_279': 157, 'Icon_280': 28350000, 'Icon_281': 0, 'Icon_282': 2476, 'Icon_283': 0, 'Icon_284': 28350000, 'Icon_285': 0, 'Icon_286': 0, 'Icon_287': 0, 'Icon_288': 28350000, 'Icon_289': 1063838, 'Icon_290': 1063838, 'Icon_291': 80268, 'Icon_292': 28350000, 'Icon_293': 1063838, 'Icon_294': 28350000, 'Icon_295': 141987, 'Icon_296': 0, 'Icon_297': 0, 'Icon_298': 13951, 'Icon_299': 7639, 'Icon_300': 128, 'Icon_301': 28345500, 'Icon_302': 28350000, 'Icon_303': 21684, 'Icon_304': 0, 'Icon_305': 109, 'Icon_306': 1072270, 'Icon_307': 0, 'Icon_308': 0, 'Icon_309': 54, 'Icon_310': 80887, 'Icon_311': 519, 'Icon_312': 23322, 'Icon_313': 25647, 'Icon_314': 36, 'Icon_315': 0, 'Icon_316': 0, 'Icon_317': 0, 'Icon_318': 347203, 'Icon_319': 15846, 'Icon_320': 8227, 'Icon_321': 0, 'Icon_322': 105544, 'Icon_323': 28350000, 'Icon_324': 0, 'Icon_325': 14825, 'Icon_326': 28337400, 'Icon_327': 0, 'Icon_328': 2137, 'Icon_329': 580, 'Icon_330': 574, 'Icon_331': 28350000, 'Icon_332': 30221, 'Icon_333': 28350000, 'Icon_334': 35, 'Icon_335': 1065249, 'Icon_336': 5517, 'Icon_337': 28337400, 'Icon_338': 0, 'Icon_339': 72, 'Icon_340': 0, 'Icon_341': 1, 'Icon_342': 159962, 'Icon_343': 2054, 'Icon_344': 26615, 'Icon_345': 826654, 'Icon_346': 13, 'Icon_347': 1065249, 'Icon_348': 28350000, 'Icon_349': 0, 'Icon_350': 27892, 'Icon_351': 28350000, 'Icon_352': 147, 'Icon_353': 352679, 'Icon_354': 28350000, 'Icon_355': 1065249, 'Icon_356': 3, 'Icon_357': 6, 'Icon_358': 28345500, 'Icon_359': 163914, 'Icon_360': 120910, 'Icon_361': 28350000, 'Icon_362': 1065249, 'Icon_363': 1065249, 'Icon_364': 28345500, 'Icon_365': 28350000, 'Icon_366': 0, 'Icon_367': 0, 'Icon_368': 1, 'Icon_369': 0, 'Icon_370': 3340, 'Icon_371': 0, 'Icon_372': 0, 'Icon_373': 28331100, 'Icon_374': 120549, 'Icon_375': 2503, 'Icon_376': 47, 'Icon_377': 28343700, 'Icon_378': 2881, 'Icon_379': 0, 'Icon_380': 28350000, 'Icon_381': 476, 'Icon_382': 0, 'Icon_383': 732212, 'Icon_384': 0, 'Icon_385': 68, 'Icon_386': 13, 'Icon_387': 22347, 'Icon_388': 151, 'Icon_389': 732212, 'Icon_390': 0, 'Icon_391': 29283, 'Icon_392': 1310, 'Icon_393': 572, 'Icon_394': 0, 'Icon_395': 0, 'Icon_396': 0, 'Icon_397': 86199, 'Icon_398': 1072270, 'Icon_399': 28350000, 'Icon_400': 28345500, 'Icon_401': 1075612, 'Icon_402': 28350000, 'Icon_403': 50521, 'Icon_404': 0, 'Icon_405': 21261, 'Icon_406': 1072270, 'Icon_407': 11, 'Icon_408': 173592, 'Icon_409': 0, 'Icon_410': 0, 'Icon_411': 1063838, 'Icon_412': 28350000, 'Icon_413': 28350000, 'Icon_414': 28350000, 'Icon_415': 27667, 'Icon_416': 11, 'Icon_417': 613256, 'Icon_418': 28350000, 'Icon_419': 945122, 'Icon_420': 253876, 'Icon_421': 0, 'Icon_422': 0, 'Icon_423': 113892, 'Icon_424': 28345500, 'Icon_425': 28350000, 'Icon_426': 9, 'Icon_427': 1072270, 'Icon_428': 0, 'Icon_429': 0, 'Icon_430': 0, 'Icon_431': 262230, 'Icon_432': 0, 'Icon_433': 80887, 'Icon_434': 5611, 'Icon_435': 434995, 'Icon_436': 1065249, 'Icon_437': 28337400, 'Icon_438': 5762, 'Icon_439': 28337400, 'Icon_440': 143, 'Icon_441': 10, 'Icon_442': 28350000, 'Icon_443': 2, 'Icon_444': 0, 'Icon_445': 0, 'Icon_446': 15916, 'Icon_447': 199, 'Icon_448': 0, 'Icon_449': 2, 'Icon_450': 62, 'Icon_451': 28350000, 'Icon_452': 7678, 'Icon_453': 18492, 'Icon_454': 7, 'Icon_455': 28350000, 'Icon_456': 3617, 'Icon_457': 25, 'Icon_458': 0, 'Icon_459': 136673, 'Icon_460': 1065249, 'Icon_461': 1065249, 'Icon_462': 910809, 'Icon_463': 28350000, 'Icon_464': 0, 'Icon_465': 0, 'Icon_466': 0, 'Icon_467': 2427, 'Icon_468': 3827, 'Icon_469': 0, 'Icon_470': 28350000, 'Icon_471': 702, 'Icon_472': 11671, 'Icon_473': 1, 'Icon_474': 212, 'Icon_475': 0, 'Icon_476': 4, 'Icon_477': 0, 'Icon_478': 442021, 'Icon_479': 0, 'Icon_480': 0, 'Icon_481': 0, 'Icon_482': 9079, 'Icon_483': 88300, 'Icon_484': 0, 'Icon_485': 2, 'Icon_486': 1536, 'Icon_487': 60714, 'Icon_488': 0, 'Icon_489': 0, 'Icon_490': 18, 'Icon_491': 0, 'Icon_492': 28350000, 'Icon_493': 356302, 'Icon_494': 0, 'Icon_495': 0, 'Icon_496': 18, 'Icon_497': 240, 'Icon_498': 0, 'Icon_499': 0, 'Icon_500': 366709, 'Icon_501': 1072270, 'Icon_502': 28927, 'Icon_503': 252, 'Icon_504': 2, 'Icon_505': 28345500, 'Icon_506': 28345500, 'Icon_507': 2, 'Icon_508': 202, 'Icon_509': 0, 'Icon_510': 455852, 'Icon_511': 5421, 'Icon_512': 0, 'Icon_513': 0, 'Icon_514': 810183, 'Icon_515': 0, 'Icon_516': 0, 'Icon_517': 0, 'Icon_518': 0, 'Icon_519': 328951, 'Icon_520': 28345500, 'Icon_521': 29324, 'Icon_522': 296, 'Icon_523': 39870, 'Icon_524': 65, 'Icon_525': 0, 'Icon_526': 806007, 'Icon_527': 28350000, 'Icon_528': 0, 'Icon_529': 70139, 'Icon_530': 0, 'Icon_531': 181, 'Icon_532': 28350000, 'Icon_533': 19, 'Icon_534': 28075, 'Icon_535': 4379, 'Icon_536': 28350000, 'Icon_537': 0, 'Icon_538': 0, 'Icon_539': 0, 'Icon_540': 0, 'Icon_541': 28350000, 'Icon_542': 28350000, 'Icon_543': 1065249, 'Icon_544': 0, 'Icon_545': 0, 'Icon_546': 3, 'Icon_547': 9970, 'Icon_548': 18322, 'Icon_549': 329503, 'Icon_550': 1716, 'Icon_551': 329920, 'Icon_552': 66431, 'Icon_553': 80887, 'Icon_554': 0, 'Icon_555': 28331100, 'Icon_556': 1, 'Icon_557': 0, 'Icon_558': 2, 'Icon_559': 1072270, 'Icon_560': 28345500, 'Icon_561': 335, 'Icon_562': 338, 'Icon_563': 732212, 'Icon_564': 126067, 'Icon_565': 15, 'Icon_566': 28350000, 'Icon_567': 1072270, 'Icon_568': 0, 'Icon_569': 0, 'Icon_570': 2, 'Icon_571': 138318, 'Icon_572': 80887, 'Icon_573': 28350000, 'Icon_574': 28350000, 'Icon_575': 19, 'Icon_576': 732212, 'Icon_577': 1356, 'Icon_578': 0, 'Icon_579': 742822, 'Icon_580': 28350000, 'Icon_581': 66782, 'Icon_582': 0, 'Icon_583': 28343700, 'Icon_584': 0, 'Icon_585': 2, 'Icon_586': 194, 'Icon_587': 4249, 'Icon_588': 0, 'Icon_589': 1072270, 'Icon_590': 0, 'Icon_591': 110606, 'Icon_592': 1072270, 'Icon_593': 11144, 'Icon_594': 1072270, 'Icon_595': 28345500, 'Icon_596': 4094, 'Icon_597': 0, 'Icon_598': 2622, 'Icon_599': 28343700, 'Icon_600': 413, 'Icon_601': 0, 'Icon_602': 28350000, 'Icon_603': 3, 'Icon_604': 684, 'Icon_605': 2705, 'Icon_606': 0, 'Icon_607': 28350000, 'Icon_608': 28350000, 'Icon_609': 159, 'Icon_610': 740125, 'Icon_611': 82, 'Icon_612': 0, 'Icon_613': 0, 'Icon_614': 28350000, 'Icon_615': 0, 'Icon_616': 28345500, 'Icon_617': 0, 'Icon_618': 813920, 'Icon_619': 6056, 'Icon_620': 5450, 'Icon_621': 28350000, 'Icon_622': 12008, 'Icon_623': 13191, 'Icon_624': 28350000, 'Icon_625': 0, 'Icon_626': 818033, 'Icon_627': 962, 'Icon_628': 28337400, 'Icon_629': 87828, 'Icon_630': 5767, 'Icon_631': 1072270, 'Icon_632': 0, 'Icon_633': 1, 'Icon_634': 28345500, 'Icon_635': 28345500, 'Icon_636': 0, 'Icon_637': 28343700, 'Icon_638': 0, 'Icon_639': 0, 'Icon_640': 28350000, 'Icon_641': 1, 'Icon_642': 967, 'Icon_643': 0, 'Icon_644': 142, 'Icon_645': 1063838, 'Icon_646': 0, 'Icon_647': 0, 'Icon_648': 1, 'Icon_649': 175, 'Icon_650': 0, 'Icon_651': 28350000, 'Icon_652': 28350000, 'Icon_653': 50, 'Icon_654': 0, 'Icon_655': 70893, 'Icon_656': 53, 'Icon_657': 28350000, 'Icon_658': 203, 'Icon_659': 1669, 'Icon_660': 28331100, 'Icon_661': 418, 'Icon_662': 28331100, 'Icon_663': 81046, 'Icon_664': 0, 'Icon_665': 0, 'Icon_666': 2553, 'Icon_667': 55, 'Icon_668': 28350000, 'Icon_669': 28350000, 'Icon_670': 164, 'Icon_671': 826653, 'Icon_672': 731, 'Icon_673': 0, 'Icon_674': 0, 'Icon_675': 0, 'Icon_676': 152436, 'Icon_677': 8, 'Icon_678': 28350000, 'Icon_679': 0, 'Icon_680': 28350000, 'Icon_681': 1065249, 'Icon_682': 0, 'Icon_683': 28350000, 'Icon_684': 47, 'Icon_685': 552, 'Icon_686': 28350000, 'Icon_687': 0, 'Icon_688': 736735, 'Icon_689': 1, 'Icon_690': 86465, 'Icon_691': 28350000, 'Icon_692': 1075612, 'Icon_693': 28350000, 'Icon_694': 1075612, 'Icon_695': 146394, 'Icon_696': 0, 'Icon_697': 0, 'Icon_698': 742822, 'Icon_699': 28350000, 'Icon_700': 94, 'Icon_701': 0, 'Icon_702': 1072270, 'Icon_703': 1063838, 'Icon_704': 11, 'Icon_705': 1087, 'Icon_706': 818033, 'Icon_707': 6, 'Icon_708': 997, 'Icon_709': 28343700, 'Icon_710': 14306, 'Icon_711': 28343700, 'Icon_712': 109616, 'Icon_713': 0, 'Icon_714': 5580, 'Icon_715': 140476, 'Icon_716': 155555, 'Icon_717': 0, 'Icon_718': 0, 'Icon_719': 0, 'Icon_720': 179, 'Icon_721': 4019, 'Icon_722': 59, 'Icon_723': 4, 'Icon_724': 28, 'Icon_725': 1455, 'Icon_726': 1, 'Icon_727': 0, 'Icon_728': 17, 'Icon_729': 15, 'Icon_730': 59, 'Icon_731': 0, 'Icon_732': 28305900, 'Icon_733': 1052, 'Icon_734': 956, 'Icon_735': 1450, 'Icon_736': 0, 'Icon_737': 28305900, 'Icon_738': 49571, 'Icon_739': 0, 'Icon_740': 0}\n"
          ]
        }
      ],
      "source": [
        "# Load the room plan image\n",
        "room_plan_image = cv2.imread('/content/RoomPlan_page-0001.jpg', 0)  # Replace with the correct file path\n",
        "\n",
        "# Function to match an icon in the room plan using template matching\n",
        "def match_icon(room_plan, icon):\n",
        "    result = cv2.matchTemplate(room_plan, icon, cv2.TM_CCOEFF_NORMED)\n",
        "    threshold = 0.8  # Adjust this threshold as necessary\n",
        "    loc = np.where(result >= threshold)\n",
        "    return len(loc[0])  # Count the number of matches\n",
        "\n",
        "# Count matches for each icon\n",
        "matches = {}\n",
        "for i, icon in enumerate(icons):\n",
        "    count = match_icon(room_plan_image, icon)\n",
        "    matches[f'Icon_{i+1}'] = count\n",
        "\n",
        "print(\"Matches found: \", matches)\n"
      ]
    },
    {
      "cell_type": "code",
      "source": [
        "# Write the results to a report file\n",
        "with open('icon_report.txt', 'w') as report:\n",
        "    report.write(\"Icon Count Report\\n\")\n",
        "    report.write(\"=================\\n\")\n",
        "    for icon_name, count in matches.items():\n",
        "        report.write(f'{icon_name}: {count} occurrences found in the Room Plan\\n')\n",
        "\n",
        "print(\"Report generated: icon_report.txt\")\n"
      ],
      "metadata": {
        "colab": {
          "base_uri": "https://localhost:8080/"
        },
        "id": "ADJzWorPrIit",
        "outputId": "4b4ecff6-e7eb-4d45-97c5-e55b8f7736d1"
      },
      "execution_count": 8,
      "outputs": [
        {
          "output_type": "stream",
          "name": "stdout",
          "text": [
            "Report generated: icon_report.txt\n"
          ]
        }
      ]
    }
  ],
  "metadata": {
    "colab": {
      "provenance": []
    },
    "kernelspec": {
      "display_name": "Python 3",
      "name": "python3"
    },
    "language_info": {
      "name": "python"
    }
  },
  "nbformat": 4,
  "nbformat_minor": 0
}